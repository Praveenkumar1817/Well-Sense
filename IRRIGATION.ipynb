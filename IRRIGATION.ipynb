{
 "cells": [
  {
   "cell_type": "markdown",
   "id": "a16e7e25-ccc1-4c3c-a15a-185a638f5794",
   "metadata": {},
   "source": [
    "## Real Time Data Survey"
   ]
  },
  {
   "cell_type": "code",
   "execution_count": 2,
   "id": "b917dd0d-758b-429f-84fe-9c01e2cd839e",
   "metadata": {},
   "outputs": [],
   "source": [
    "import pandas as pd\n",
    "\n",
    "# Loading the prioritized farm data\n",
    "df = pd.read_csv('five_farms_priority.csv')\n",
    "\n",
    "# Defining a threshold for sufficient water (example: water demand * 0.60)\n",
    "\n",
    "df['sufficient_water_threshold'] = df['predicted_water_demand'] * 0.60\n",
    "\n",
    "# Initializing columns for tracking water applied\n",
    "\n",
    "df['water_applied'] = 0.0\n",
    "df['remaining_water_need'] = df['predicted_water_demand']\n",
    "\n",
    "# Water\n",
    "available_water = 1000 #  Will be obtained from real-time sensors"
   ]
  },
  {
   "cell_type": "markdown",
   "id": "fe48b596-5c8c-40e4-92f1-3ace79cdc6f8",
   "metadata": {},
   "source": [
    "## Algorithm for Irrigating farms Based on Water Requirements and Priority"
   ]
  },
  {
   "cell_type": "code",
   "execution_count": 4,
   "id": "d5073ce1-2640-47c7-a0f1-7f0e6a7b140d",
   "metadata": {},
   "outputs": [],
   "source": [
    "\n",
    "\n",
    "def Irrigate(df_sorted, available_water):\n",
    "    \"\"\"\n",
    "    Allocatimg water to farms based on their priority and remaining needs.\n",
    "    \"\"\"\n",
    "    print(f\"Total available water: {available_water} liters\")\n",
    "    \n",
    "    # Calculate total remaining water need\n",
    "    total_remaining_need = df_sorted['remaining_water_need'].sum()\n",
    "\n",
    "    if available_water < total_remaining_need:\n",
    "        print(\"Limited water available. Allocating water proportionally.\")\n",
    "        \n",
    "        for index, farm in df_sorted.iterrows():\n",
    "            if farm['remaining_water_need'] <= 0:\n",
    "                continue  # Skip already sufficiently irrigated farms\n",
    "            \n",
    "            # Calculate the proportion of water to allocate for each farm\n",
    "            proportion = farm['remaining_water_need'] / total_remaining_need\n",
    "            water_to_apply = available_water * proportion\n",
    "            \n",
    "            print(f\"Motor running for Farm {farm['farm_id']}...\")\n",
    "            # Simulate irrigation process\n",
    "            df_sorted.at[index, 'water_applied'] += water_to_apply\n",
    "            df_sorted.at[index, 'remaining_water_need'] -= water_to_apply\n",
    "            available_water -= water_to_apply\n",
    "            \n",
    "            if df_sorted.at[index, 'remaining_water_need'] <= 0:\n",
    "                print(f\"Farm {farm['farm_id']} has been sufficiently irrigated.\")\n",
    "            else:\n",
    "                print(f\"Farm {farm['farm_id']} still needs {df_sorted.at[index, 'remaining_water_need']} liters of water.\")\n",
    "            \n",
    "            if available_water <= 0:\n",
    "                print(\"No more water available. Allocation complete.\")\n",
    "                break\n",
    "\n",
    "    else:\n",
    "        print(\"Sufficient water available. Allocating based on priority.\")\n",
    "        \n",
    "        for index, farm in df_sorted.iterrows():\n",
    "            if farm['remaining_water_need'] <= 0:\n",
    "                continue\n",
    "            \n",
    "            print(f\"Motor running for Farm {farm['farm_id']}...\")\n",
    "            \n",
    "            water_to_apply = min(farm['remaining_water_need'], available_water)\n",
    "            df_sorted.at[index, 'water_applied'] += water_to_apply\n",
    "            df_sorted.at[index, 'remaining_water_need'] -= water_to_apply\n",
    "            available_water -= water_to_apply\n",
    "            \n",
    "            if df_sorted.at[index, 'remaining_water_need'] <= 0:\n",
    "                print(f\"Farm {farm['farm_id']} has been sufficiently irrigated.\")\n",
    "            else:\n",
    "                print(f\"Farm {farm['farm_id']} still needs {df_sorted.at[index, 'remaining_water_need']} liters of water.\")\n",
    "            \n",
    "            if available_water <= 0:\n",
    "                print(\"No more water available. Allocation complete.\")\n",
    "                break\n",
    "\n",
    "    return df_sorted\n",
    "\n"
   ]
  },
  {
   "cell_type": "markdown",
   "id": "75be99b2-c482-4375-9378-d3cd52d14011",
   "metadata": {},
   "source": [
    "## Irrigating farms"
   ]
  },
  {
   "cell_type": "code",
   "execution_count": 6,
   "id": "17489b17-1df2-4f21-b1fb-c1727345bf7e",
   "metadata": {},
   "outputs": [
    {
     "name": "stdout",
     "output_type": "stream",
     "text": [
      "Total available water: 1000 liters\n",
      "Limited water available. Allocating water proportionally.\n",
      "Motor running for Farm 5...\n",
      "Farm 5 still needs 166.46708986116278 liters of water.\n",
      "Motor running for Farm 4...\n",
      "Farm 4 still needs 187.51105311359171 liters of water.\n",
      "Motor running for Farm 1...\n",
      "Farm 1 still needs 176.82208778717546 liters of water.\n",
      "Motor running for Farm 2...\n",
      "Farm 2 still needs 165.86020141305545 liters of water.\n",
      "Motor running for Farm 3...\n",
      "Farm 3 still needs 139.51776131991397 liters of water.\n",
      "Irrigation scheduling complete. Results saved to 'irrigated_farms_with_tracking.csv'.\n"
     ]
    }
   ],
   "source": [
    "# Sort farms by priority score\n",
    "df_sorted = df.sort_values(by='priority_score', ascending=False)\n",
    "\n",
    "# Execute water allocation based on available water\n",
    "df_irrigated = Irrigate(df_sorted, available_water)\n",
    "\n",
    "# Save the results to a CSV file\n",
    "df_irrigated.to_csv('irrigated_farms_with_tracking.csv', index=False)\n",
    "\n",
    "print(\"Irrigation scheduling complete. Results saved to 'irrigated_farms_with_tracking.csv'.\")\n"
   ]
  }
 ],
 "metadata": {
  "kernelspec": {
   "display_name": "Python 3 (ipykernel)",
   "language": "python",
   "name": "python3"
  },
  "language_info": {
   "codemirror_mode": {
    "name": "ipython",
    "version": 3
   },
   "file_extension": ".py",
   "mimetype": "text/x-python",
   "name": "python",
   "nbconvert_exporter": "python",
   "pygments_lexer": "ipython3",
   "version": "3.12.4"
  }
 },
 "nbformat": 4,
 "nbformat_minor": 5
}
