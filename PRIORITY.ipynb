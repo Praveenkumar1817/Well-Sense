{
 "cells": [
  {
   "cell_type": "markdown",
   "id": "93ef0ee1-cca9-4498-a9a2-8a0ec519882e",
   "metadata": {},
   "source": [
    "## Loading the Training Model"
   ]
  },
  {
   "cell_type": "code",
   "execution_count": 3,
   "id": "5d16bd69-aec5-4b48-95a3-60be872cfb51",
   "metadata": {},
   "outputs": [],
   "source": [
    "import pandas as pd\n",
    "import numpy as np\n",
    "from sklearn.preprocessing import LabelEncoder, StandardScaler\n",
    "from sklearn.ensemble import RandomForestRegressor\n",
    "from sklearn.model_selection import train_test_split\n",
    "\n",
    "# Load the historical dataset to train the model\n",
    "historical_data = pd.read_csv('historical_farm_data_tamil_nadu.csv')\n",
    "\n",
    "# Encode categorical features\n",
    "label_encoders = {}\n",
    "for column in ['crop_type', 'growth_stage', 'soil_type']:\n",
    "    le = LabelEncoder()\n",
    "    historical_data[column + '_encoded'] = le.fit_transform(historical_data[column])\n",
    "    label_encoders[column] = le\n",
    "\n",
    "# Select features and target variable\n",
    "features = ['soil_moisture', 'temperature', 'humidity', 'rain_forecast', \n",
    "            'crop_type_encoded', 'growth_stage_encoded', 'soil_type_encoded']\n",
    "X = historical_data[features]\n",
    "y = historical_data['water_demand']\n",
    "\n",
    "# Split the data into training and test sets\n",
    "X_train, X_test, y_train, y_test = train_test_split(X, y, test_size=0.2, random_state=42)\n",
    "\n",
    "# Scale features\n",
    "scaler = StandardScaler()\n",
    "X_train_scaled = scaler.fit_transform(X_train)\n",
    "X_test_scaled = scaler.transform(X_test)\n",
    "\n",
    "# Train a RandomForestRegressor\n",
    "model = RandomForestRegressor(n_estimators=100, random_state=42)\n",
    "model.fit(X_train_scaled, y_train)\n",
    "\n",
    "# Load new farm data for prediction\n",
    "new_farms_data = pd.read_csv('five_farms_data.csv')\n",
    "\n",
    "# Encode categorical features for new data\n",
    "for column in ['crop_type', 'growth_stage', 'soil_type']:\n",
    "    new_farms_data[column + '_encoded'] = label_encoders[column].transform(new_farms_data[column])\n",
    "\n",
    "# Prepare features for new data\n",
    "X_new = new_farms_data[features]\n",
    "X_new_scaled = scaler.transform(X_new)\n"
   ]
  },
  {
   "cell_type": "markdown",
   "id": "7cdb1d16-34ce-4dee-acc6-357ae217d656",
   "metadata": {},
   "source": [
    "## Predicting the Required water demand for the Five Farms "
   ]
  },
  {
   "cell_type": "code",
   "execution_count": 20,
   "id": "07aa1d4f-1295-4d55-8e35-c99539efd08f",
   "metadata": {},
   "outputs": [],
   "source": [
    "\n",
    "new_farms_data['predicted_water_demand'] = model.predict(X_new_scaled)\n"
   ]
  },
  {
   "cell_type": "markdown",
   "id": "f814df91-915f-4e3c-a281-ef1d4066a4db",
   "metadata": {},
   "source": [
    "## Defining the PRIOROTY for Each Farms"
   ]
  },
  {
   "cell_type": "code",
   "execution_count": 22,
   "id": "f7ee95e7-8e9c-4df5-92af-4dd019529fc0",
   "metadata": {},
   "outputs": [],
   "source": [
    "def calculate_priority_score(row):\n",
    "    crop_sensitivity = {\n",
    "        'rice': 0.9, 'millets': 0.8, 'maize': 0.7, 'sugarcane': 0.85, 'cotton': 0.6,\n",
    "        'tobacco': 0.75, 'chickpeas': 0.65, 'groundnut': 0.7, 'banana': 0.8, 'pulses': 0.7,\n",
    "        'turmeric': 0.75, 'onion': 0.7, 'tomato': 0.75, 'brinjal': 0.7, 'carrot': 0.65,\n",
    "        'cabbage': 0.65, 'cauliflower': 0.65, 'beans': 0.7, 'peas': 0.7, 'potato': 0.7,\n",
    "        'sweet potato': 0.7, 'yam': 0.7, 'barley': 0.65, 'wheat': 0.7, 'sesame': 0.65,\n",
    "        'sunflower': 0.7, 'pearl millet': 0.65, 'mustard': 0.65, 'soybean': 0.65, 'rapeseed': 0.65,\n",
    "        'fennel': 0.7, 'coriander': 0.7, 'cumin': 0.7, 'anise': 0.7, 'cardamom': 0.75\n",
    "    }\n",
    "    sensitivity_score = crop_sensitivity.get(row['crop_type'], 0.5)\n",
    "    predicted_water_demand = row['predicted_water_demand']\n",
    "    soil_moisture_score = row['soil_moisture']\n",
    "    land_size_score = row['land_size']\n",
    "    rain_forecast_score = row['rain_forecast']\n",
    "    \n",
    "    # Calculate priority score\n",
    "    priority_score = (0.4 * predicted_water_demand +\n",
    "                      0.2 * soil_moisture_score +\n",
    "                      0.2 * sensitivity_score +\n",
    "                      0.1 * land_size_score -\n",
    "                      0.4 * rain_forecast_score)\n",
    "    \n",
    "    return priority_score\n",
    "\n",
    "\n",
    "# Calculate priority scores\n",
    "new_farms_data['priority_score'] = new_farms_data.apply(calculate_priority_score, axis=1)\n"
   ]
  },
  {
   "cell_type": "markdown",
   "id": "c42fc97e-5b36-401b-addc-7802c01026e0",
   "metadata": {},
   "source": [
    "## Saving the Results"
   ]
  },
  {
   "cell_type": "code",
   "execution_count": 24,
   "id": "9007c2d5-455e-475a-8807-944890604ac5",
   "metadata": {},
   "outputs": [
    {
     "name": "stdout",
     "output_type": "stream",
     "text": [
      "Priority scores for the five farms have been calculated and saved to 'five_farms_priority.csv'.\n"
     ]
    }
   ],
   "source": [
    "new_farms_data.to_csv('five_farms_priority.csv', index=False)\n",
    "print(\"Priority scores for the five farms have been calculated and saved to 'five_farms_priority.csv'.\")"
   ]
  }
 ],
 "metadata": {
  "kernelspec": {
   "display_name": "Python 3 (ipykernel)",
   "language": "python",
   "name": "python3"
  },
  "language_info": {
   "codemirror_mode": {
    "name": "ipython",
    "version": 3
   },
   "file_extension": ".py",
   "mimetype": "text/x-python",
   "name": "python",
   "nbconvert_exporter": "python",
   "pygments_lexer": "ipython3",
   "version": "3.12.4"
  }
 },
 "nbformat": 4,
 "nbformat_minor": 5
}
